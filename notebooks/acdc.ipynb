{
 "cells": [
  {
   "cell_type": "markdown",
   "metadata": {},
   "source": [
    "# ACDC Tutorial\n",
    "This jupyter notebook shows how to run **ASCENT** on ACDC dataset. The dataset used in this tutorial is a cropped version of the original dataset. The original dataset can be found [here](https://humanheart-project.creatis.insa-lyon.fr/database/#collection/637218c173e9f0047faa00fb)."
   ]
  },
  {
   "cell_type": "markdown",
   "metadata": {},
   "source": [
    "## I. Install dependencies  \n",
    "The first step is to install the required dependencies. Kindly follow the instructions in the **Install** section in the [README](../README.md) file to create a conda environment and install the required dependencies.\n",
    "Kindly execute the following cells to install the required dependencies. Make sure you have created a conda environment following the instruction in the README file and activated it. If you have not installed the required dependencies, simply execute the following cell to install them."
   ]
  },
  {
   "cell_type": "code",
   "execution_count": null,
   "metadata": {},
   "outputs": [],
   "source": [
    "%%capture project_path_setup\n",
    "import sys\n",
    "\n",
    "if \"../\" in sys.path:\n",
    "    print(sys.path)\n",
    "else:\n",
    "    sys.path.append(\"../\")\n",
    "    print(sys.path)\n",
    "\n",
    "%%capture packages_install\n",
    "# Install PyTorch\n",
    "%conda install pytorch torchvision torchaudio pytorch-cuda=11.8 -c pytorch -c nvidia -y\n",
    "\n",
    "# Install ASCENt as an editable package\n",
    "%pip install -e ../."
   ]
  },
  {
   "cell_type": "markdown",
   "metadata": {},
   "source": [
    "## II. Dataset and Preprocessing\n",
    "Once the environment is successfully setup, download the ACDC dataset by executing the following cell. The dataset will be downloaded to the current folder."
   ]
  },
  {
   "cell_type": "code",
   "execution_count": null,
   "metadata": {},
   "outputs": [],
   "source": [
    "import sys\n",
    "from pathlib import Path\n",
    "\n",
    "from tqdm.auto import tqdm\n",
    "\n",
    "if \"./\" in sys.path:\n",
    "    print(sys.path)\n",
    "else:\n",
    "    sys.path.append(\"./\")\n",
    "    print(sys.path)\n",
    "\n",
    "# Make sure the data is downloaded and extracted where it should be\n",
    "if not Path(\"./ACDC\").is_dir():\n",
    "    import zipfile\n",
    "    from io import BytesIO\n",
    "    from urllib.request import urlopen\n",
    "\n",
    "    zipurl = \"https://humanheart-project.creatis.insa-lyon.fr/database/api/v1/collection/637218c173e9f0047faa00fb/download\"\n",
    "    with urlopen(zipurl) as zipresp:\n",
    "        with zipfile.ZipFile(BytesIO(zipresp.read())) as zfile:\n",
    "            for member in tqdm(\n",
    "                zfile.infolist(), desc=\"Downloading and extracting data\", position=0, leave=True\n",
    "            ):\n",
    "                try:\n",
    "                    zfile.extract(member, \"./\")\n",
    "                except zipfile.error as e:\n",
    "                    pass\n",
    "\n",
    "acdc_data_path = \"./ACDC/database\""
   ]
  },
  {
   "cell_type": "markdown",
   "metadata": {},
   "source": [
    "Next, we reformat the dataset to the nnU-Net format. The conversion script we use can be found [here](../ascent/dataset_conversion/acdc.py). We are going to work with a cropped version of ACDC dataset in this tutorial to save time. Execute the following cells to convert the dataset to the nnU-Net format."
   ]
  },
  {
   "cell_type": "code",
   "execution_count": null,
   "metadata": {},
   "outputs": [],
   "source": [
    "# Executing this cell will show the help message for the ACDC dataset conversion script\n",
    "%run -i ../ascent/dataset_conversion/acdc.py -h"
   ]
  },
  {
   "cell_type": "code",
   "execution_count": null,
   "metadata": {},
   "outputs": [],
   "source": [
    "# Executing this cell will crop the ACDC dataset and convert it to the nnU-Net format\n",
    "%run -i ../ascent/dataset_conversion/acdc.py -d {acdc_data_path} -o \"../data\" -n \"ACDC\" -cf\n",
    "\n",
    "# Delete the downloaded data after the conversion\n",
    "import shutil\n",
    "\n",
    "shutil.rmtree(\"./ACDC\")"
   ]
  },
  {
   "cell_type": "markdown",
   "metadata": {},
   "source": [
    "The converted dataset is now located in `../data/ACDC/raw`. We proceed to preprocess the dataset and generate experiment plans by executing the following cell. The preprocessed dataset will be located in `../data/ACDC/preprocessed`. During the preprocessing, the data is cropped to non-zero regions, resampled to median image spacing, and normalized with z-score normalization. The pre-processed data are stored in `.npz` format for faster loading after being unpacked to `.npy`.\n",
    "\n",
    "> **ⓘ**\n",
    "> In the next cell, we are using `%run` magic command of jupyter to get a more beautiful and real-time output. In the real case when you are using a terminal, just use `ascent_preprocess_and_plan` command."
   ]
  },
  {
   "cell_type": "code",
   "execution_count": null,
   "metadata": {},
   "outputs": [],
   "source": [
    "%run ../ascent/preprocess_and_plan.py dataset=ACDC\n",
    "\n",
    "# Delete the generated log file\n",
    "import os\n",
    "\n",
    "os.remove(\"./preprocess_and_plan.log\")"
   ]
  },
  {
   "cell_type": "markdown",
   "metadata": {},
   "source": [
    "**YAML** plans for training 2D and 3D nnU-Nets are generated and stored in `../ascent/configs`, starting with `acdc_` prefix. Take a look at the generated 3D model plan by executing the following cell."
   ]
  },
  {
   "cell_type": "code",
   "execution_count": null,
   "metadata": {},
   "outputs": [],
   "source": [
    "from ruamel.yaml import YAML\n",
    "\n",
    "yaml = YAML(typ=\"safe\")\n",
    "plan = yaml.load(open(\"../ascent/configs/model/acdc_3d.yaml\"))\n",
    "print(plan)"
   ]
  },
  {
   "cell_type": "markdown",
   "metadata": {},
   "source": [
    "## III. Training\n",
    "We are now ready to train the model. We will train a 3D nnU-Net model on the ACDC dataset using `acdc_3d` experiment plan. We will use tensorboard logger to monitor the training process. Other loggers such as wandb and Comet can also be used. The log folder to save the training logs will be given at the end of the training. Execute the following cell to start the training. We will use reduced number of epochs and batch size to save time and resources. You can keep the default values for better performance.\n",
    "\n",
    "> **ⓘ**\n",
    "> By default, the mixed precision is activated to speed up the training process. For Windows users, mixed precision is buggy. You can deactivate it by adding `trainer.precision=32` in the command line arguments in the next cell.  \n",
    "> **ⓘ**\n",
    "> In the next cell, we are using `%run` magic command of jupyter to get a more beautiful and real-time output. In the real case when you are using a terminal, just use `ascent_train` command."
   ]
  },
  {
   "cell_type": "code",
   "execution_count": null,
   "metadata": {},
   "outputs": [],
   "source": [
    "try:\n",
    "    import ipywidgets\n",
    "except ModuleNotFoundError:\n",
    "    %pip install ipywidgets\n",
    "\n",
    "# Add trainer.accelerator=cpu to train on CPU %run ../ascent/train.py\n",
    "%run ../ascent/train.py experiment=acdc_2d logger=tensorboard datamodule.test_splits=False datamodule.batch_size=2 fold=0 trainer.max_epochs=2 trainer.precision=32"
   ]
  }
 ],
 "metadata": {
  "kernelspec": {
   "display_name": "Python [conda env:.conda-ascent]",
   "language": "python",
   "name": "conda-env-.conda-ascent-py"
  },
  "language_info": {
   "codemirror_mode": {
    "name": "ipython",
    "version": 3
   },
   "file_extension": ".py",
   "mimetype": "text/x-python",
   "name": "python",
   "nbconvert_exporter": "python",
   "pygments_lexer": "ipython3",
   "version": "3.10.13"
  }
 },
 "nbformat": 4,
 "nbformat_minor": 4
}
